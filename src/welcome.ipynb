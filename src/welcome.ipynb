{
 "cells": [
  {
   "cell_type": "markdown",
   "id": "a71a5685-da14-4e91-9a0b-e1cbb9b99bd8",
   "metadata": {},
   "source": [
    "# Welcome\n",
    "\n",
    ":::{admonition} Learn more about PyHC\n",
    ":class: seealso\n",
    "Check the [list of projects at PyHC](https://heliopython.org/projects/)\n",
    ":::\n",
    "\n",
    "These pages are generated using the following package versions:"
   ]
  },
  {
   "cell_type": "code",
   "execution_count": null,
   "id": "b1887be4-baa0-4445-ac6d-223a03a9182f",
   "metadata": {},
   "outputs": [],
   "source": [
    "%load_ext watermark\n",
    "%watermark -ivp plasmapy,pysat,spacepy,sunpy,hapiclient,kamodo\n",
    "# import pyspedas breaks nbclient in gh action?"
   ]
  }
 ],
 "metadata": {
  "kernelspec": {
   "display_name": "Python 3 (ipykernel)",
   "language": "python",
   "name": "python3"
  },
  "language_info": {
   "codemirror_mode": {
    "name": "ipython",
    "version": 3
   },
   "file_extension": ".py",
   "mimetype": "text/x-python",
   "name": "python",
   "nbconvert_exporter": "python",
   "pygments_lexer": "ipython3",
   "version": "3.10.2"
  }
 },
 "nbformat": 4,
 "nbformat_minor": 5
}
